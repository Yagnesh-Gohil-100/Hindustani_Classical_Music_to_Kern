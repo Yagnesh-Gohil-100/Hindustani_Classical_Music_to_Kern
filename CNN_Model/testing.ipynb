{
 "cells": [
  {
   "cell_type": "code",
   "execution_count": null,
   "metadata": {},
   "outputs": [],
   "source": [
    "import os\n",
    "import cv2\n",
    "import numpy as np\n",
    "from tensorflow.keras.models import load_model"
   ]
  },
  {
   "cell_type": "code",
   "execution_count": null,
   "metadata": {},
   "outputs": [],
   "source": [
    "# Load the trained model\n",
    "model = load_model('music_model.h5')"
   ]
  },
  {
   "cell_type": "code",
   "execution_count": null,
   "metadata": {},
   "outputs": [],
   "source": [
    "# Preprocess the input image\n",
    "def preprocess_image(image_path):\n",
    "    image = cv2.imread(image_path, cv2.IMREAD_GRAYSCALE)\n",
    "    image = cv2.resize(image, (32, 32))  # Resize to match the model's input size\n",
    "    image = np.expand_dims(image, axis=0)  # Add batch dimension\n",
    "    return image\n",
    "\n",
    "# Pass the image through the model and get predictions\n",
    "def predict_class(image_path):\n",
    "    preprocessed_image = preprocess_image(image_path)\n",
    "    predictions = model.predict(preprocessed_image)\n",
    "    predicted_class_index = np.argmax(predictions, axis=1)\n",
    "    return predicted_class_index[0]\n",
    "\n",
    "# Main test dataset folder path\n",
    "main_test_dataset_folder = \"Test_dataset\"\n",
    "\n",
    "classes = [\"सा\", \"रे\", \"ग\", \"म\", \"प\", \"ध\", \"नि\", \"रे॒\", \"ग॒\", \"ध॒\", \"नि॒\", \"म॑\", \n",
    "           \"सा\\u0951\", \"रे\\u0951\", \"ग\\u0951\", \"म\\u0951\", \"प\\u0951\", \"ध\\u0951\", \"रे॒\\u0951\", \"ग॒\\u0951\", \"म॑'\", \n",
    "           \"म\\u093C\", \"म॑\\u093C\", \"प\\u093C\", \"ध॒\\u093C\", \"ध\\u093C\", \"नि॒\\u093C\", \"नि\\u093C\", \n",
    "           \"-\", \"४\", \"O\", \"X\", \"३\", \"२\", \"|\"] \n",
    "\n",
    "# Initialize counters for correct and incorrect predictions\n",
    "correct_predictions = 0\n",
    "incorrect_predictions = 0\n",
    "incorrect_files = []\n",
    "\n",
    "# Predict classes for images in each class folder\n",
    "for class_index, class_label in enumerate(os.listdir(main_test_dataset_folder), start=0):\n",
    "    class_folder_path = os.path.join(main_test_dataset_folder, class_label)\n",
    "    if os.path.isdir(class_folder_path):\n",
    "        print(f\"\\nStarting predictions for class: {class_label}\")\n",
    "        # Predict classes for images in the current class folder\n",
    "        for image_file in os.listdir(class_folder_path):\n",
    "            image_path = os.path.join(class_folder_path, image_file)\n",
    "            predicted_class_index = predict_class(image_path)\n",
    "            predicted_class_label = classes[predicted_class_index]\n",
    "            \n",
    "            # Check if the predicted index matches the actual class index\n",
    "            print(f'predicted: {predicted_class_index}, expected: {class_index}')\n",
    "            if predicted_class_index == class_index:\n",
    "                correct_predictions += 1\n",
    "            else:\n",
    "                incorrect_predictions += 1\n",
    "                incorrect_files.append((image_file, predicted_class_label))\n",
    "        \n",
    "            print(f'File: {image_file}, Predicted class: {predicted_class_label}')\n",
    "\n",
    "# Print summary\n",
    "print(\"\\nSummary:\")\n",
    "total_images = correct_predictions + incorrect_predictions\n",
    "print(f\"Total images: {total_images}\")\n",
    "print(f\"Correct predictions: {correct_predictions}\")\n",
    "print(f\"Incorrect predictions: {incorrect_predictions}\")\n",
    "if incorrect_files:\n",
    "    print(\"\\nIncorrect files:\")\n",
    "    for file, predicted_class in incorrect_files:\n",
    "        print(f\"File: {file}, Predicted class: {predicted_class}\")"
   ]
  }
 ],
 "metadata": {
  "language_info": {
   "name": "python"
  }
 },
 "nbformat": 4,
 "nbformat_minor": 2
}
