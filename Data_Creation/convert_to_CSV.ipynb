{
 "cells": [
  {
   "cell_type": "code",
   "execution_count": null,
   "metadata": {},
   "outputs": [],
   "source": [
    "import os\n",
    "import cv2\n",
    "import numpy as np\n",
    "import pandas as pd"
   ]
  },
  {
   "cell_type": "code",
   "execution_count": null,
   "metadata": {},
   "outputs": [],
   "source": [
    "def read_images_and_create_csv(folder_path, class_label):\n",
    "    data = []\n",
    "    for filename in os.listdir(folder_path):\n",
    "        if filename.endswith(\".png\"):  \n",
    "            image_path = os.path.join(folder_path, filename)\n",
    "            image = cv2.imread(image_path, cv2.IMREAD_GRAYSCALE)  \n",
    "            if image is not None:\n",
    "                # Resize the image to 32x32 \n",
    "                if image.shape != (32, 32):\n",
    "                    image = cv2.resize(image, (32, 32))\n",
    "                # Flatten the image to a 1D array (1024 pixels for 32x32 images)\n",
    "                image_pixels = image.flatten()\n",
    "                data.append(np.append(image_pixels, class_label))\n",
    "\n",
    "    # Convert the data list to a pandas DataFrame\n",
    "    df = pd.DataFrame(data)\n",
    "\n",
    "    # Define column names \n",
    "    columns = [f\"pixel_{i:04d}\" for i in range(df.shape[1] - 1)] + [\"alphabet\"]\n",
    "\n",
    "    # Write column names manually as the first row\n",
    "    csv_filename = \"training.csv\"\n",
    "    csv_path = os.path.join(os.getcwd(), csv_filename)\n",
    "    if not os.path.exists(csv_path):\n",
    "        with open(csv_path, \"w\") as file:\n",
    "            file.write(\",\".join(columns) + \"\\n\")\n",
    "\n",
    "    # Append DataFrame to CSV file without column names\n",
    "    df.to_csv(csv_path, index=False, header=False, mode='a')\n",
    "\n",
    "def process_folders(main_folder):\n",
    "    # Iterate over each folder in the main directory\n",
    "    for folder_name in os.listdir(main_folder):\n",
    "        folder_path = os.path.join(main_folder, folder_name)\n",
    "        if os.path.isdir(folder_path):\n",
    "            class_label = folder_name  # Use folder name as the class label\n",
    "            read_images_and_create_csv(folder_path, class_label)\n",
    "\n",
    "# Path to the directory containing images folders\n",
    "main_folder = \"Dataset\"\n",
    "process_folders(main_folder)"
   ]
  }
 ],
 "metadata": {
  "language_info": {
   "name": "python"
  }
 },
 "nbformat": 4,
 "nbformat_minor": 2
}
