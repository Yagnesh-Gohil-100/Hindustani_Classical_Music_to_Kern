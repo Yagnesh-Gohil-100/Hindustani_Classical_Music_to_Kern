{
 "cells": [
  {
   "cell_type": "code",
   "execution_count": null,
   "metadata": {},
   "outputs": [],
   "source": [
    "import os\n",
    "from image_generation import rotate_images, generate_variety_images, ensure_image_count"
   ]
  },
  {
   "cell_type": "code",
   "execution_count": null,
   "metadata": {},
   "outputs": [],
   "source": [
    "# Define the main folder containing subfolders with images\n",
    "main_folder_path = \"Dataset\"\n",
    "\n",
    "# Function to apply image transformations to all subfolders\n",
    "def apply_image_transformations(main_folder_path, target_image_count=2000):\n",
    "    # Iterate over each subfolder in the main folder\n",
    "    for folder_name in os.listdir(main_folder_path):\n",
    "        folder_path = os.path.join(main_folder_path, folder_name)\n",
    "        \n",
    "        # Check if the current item is a folder\n",
    "        if os.path.isdir(folder_path):\n",
    "            print(f\"Processing images in folder: {folder_name}\")\n",
    "            \n",
    "            # Apply rotation to images in the folder\n",
    "            rotate_images(folder_path)\n",
    "            \n",
    "            # Apply variety generation to images in the folder\n",
    "            generate_variety_images(folder_path)\n",
    "\n",
    "            # Ensure the folder has the target number of images\n",
    "            ensure_image_count(folder_path, target_image_count)\n",
    "\n",
    "apply_image_transformations(main_folder_path)"
   ]
  }
 ],
 "metadata": {
  "language_info": {
   "name": "python"
  }
 },
 "nbformat": 4,
 "nbformat_minor": 2
}
