{
 "cells": [
  {
   "cell_type": "code",
   "execution_count": null,
   "metadata": {},
   "outputs": [],
   "source": [
    "import os\n",
    "import cv2\n",
    "import numpy as np\n",
    "from skimage.feature import hog\n",
    "from sklearn.decomposition import PCA\n",
    "from sklearn.cluster import AgglomerativeClustering\n",
    "import shutil"
   ]
  },
  {
   "cell_type": "code",
   "execution_count": 1,
   "metadata": {},
   "outputs": [
    {
     "name": "stdout",
     "output_type": "stream",
     "text": [
      "Clustering completed and images are saved in respective folders.\n"
     ]
    }
   ],
   "source": [
    "# Function to load images and preprocess them\n",
    "def load_images_from_folder(folder, batch_size=1000):\n",
    "    images = []\n",
    "    filenames = []\n",
    "    for filename in os.listdir(folder):\n",
    "        if filename.endswith('.png') or filename.endswith('.jpg'):\n",
    "            img_path = os.path.join(folder, filename)\n",
    "            img = cv2.imread(img_path, cv2.IMREAD_GRAYSCALE)\n",
    "            # Resize image to ensure it meets the minimum size requirement for HOG\n",
    "            img = cv2.resize(img, (64, 64))\n",
    "            images.append(img)\n",
    "            filenames.append(filename)\n",
    "            if len(images) == batch_size:\n",
    "                yield images, filenames\n",
    "                images = []\n",
    "                filenames = []\n",
    "    if images:  # Yield the remaining images if any\n",
    "        yield images, filenames\n",
    "\n",
    "# Function to extract HOG features from images\n",
    "def extract_hog_features(images):\n",
    "    hog_features = []\n",
    "    for img in images:\n",
    "        features = hog(img, pixels_per_cell=(8, 8), cells_per_block=(2, 2), feature_vector=True)\n",
    "        hog_features.append(features)\n",
    "    return hog_features\n",
    "\n",
    "# Function to perform HAC clustering with PCA for feature reduction\n",
    "def cluster_and_save_images_hac_with_pca(images_folder, output_folder, num_clusters=100, n_components=100, batch_size=1000):\n",
    "    # Initialize lists to collect features and filenames\n",
    "    all_features = []\n",
    "    all_filenames = []\n",
    "\n",
    "   \n",
    "    for batch_images, batch_filenames in load_images_from_folder(images_folder, batch_size=batch_size):\n",
    "        features = extract_hog_features(batch_images)\n",
    "        all_features.extend(features)\n",
    "        all_filenames.extend(batch_filenames)\n",
    "\n",
    "    all_features = np.array(all_features)\n",
    "\n",
    "    # Apply PCA to reduce feature dimensions\n",
    "    pca = PCA(n_components=n_components)\n",
    "    reduced_features = pca.fit_transform(all_features)\n",
    "\n",
    "    # Perform HAC clustering\n",
    "    hac = AgglomerativeClustering(n_clusters=num_clusters)\n",
    "    labels = hac.fit_predict(reduced_features)\n",
    "\n",
    "    # Create folders for each cluster and move images into the respective folders\n",
    "    if not os.path.exists(output_folder):\n",
    "        os.makedirs(output_folder)\n",
    "\n",
    "    for idx, label in enumerate(labels):\n",
    "        cluster_folder = os.path.join(output_folder, f'cluster_{label}')\n",
    "        if not os.path.exists(cluster_folder):\n",
    "            os.makedirs(cluster_folder)\n",
    "        shutil.copy(os.path.join(images_folder, all_filenames[idx]), os.path.join(cluster_folder, all_filenames[idx]))\n",
    "\n",
    "    print(\"Clustering completed and images are saved in respective folders.\")\n",
    "\n",
    "# Specify the paths\n",
    "images_folder = \"segmented_data\"  \n",
    "output_folder = \"cluster_hac_pca\"  \n",
    "\n",
    "cluster_and_save_images_hac_with_pca(images_folder, output_folder)\n"
   ]
  }
 ],
 "metadata": {
  "kernelspec": {
   "display_name": "Python 3",
   "language": "python",
   "name": "python3"
  },
  "language_info": {
   "codemirror_mode": {
    "name": "ipython",
    "version": 3
   },
   "file_extension": ".py",
   "mimetype": "text/x-python",
   "name": "python",
   "nbconvert_exporter": "python",
   "pygments_lexer": "ipython3",
   "version": "3.12.3"
  }
 },
 "nbformat": 4,
 "nbformat_minor": 2
}
