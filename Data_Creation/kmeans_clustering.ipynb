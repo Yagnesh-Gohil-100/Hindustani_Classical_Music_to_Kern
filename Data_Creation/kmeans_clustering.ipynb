{
 "cells": [
  {
   "cell_type": "markdown",
   "metadata": {},
   "source": [
    "Intial Clustering"
   ]
  },
  {
   "cell_type": "code",
   "execution_count": 2,
   "metadata": {},
   "outputs": [],
   "source": [
    "import os\n",
    "import cv2\n",
    "import numpy as np\n",
    "from skimage.feature import hog\n",
    "from sklearn.cluster import MiniBatchKMeans\n",
    "import shutil"
   ]
  },
  {
   "cell_type": "code",
   "execution_count": 2,
   "metadata": {},
   "outputs": [
    {
     "name": "stdout",
     "output_type": "stream",
     "text": [
      "Clustering completed and images are saved in respective folders.\n"
     ]
    }
   ],
   "source": [
    "# Function to load images and preprocess them in batches\n",
    "def load_images_from_folder(folder, batch_size=1000):\n",
    "    images = []\n",
    "    filenames = []\n",
    "    for filename in os.listdir(folder):\n",
    "        if filename.endswith('.png') or filename.endswith('.jpg'):\n",
    "            img_path = os.path.join(folder, filename)\n",
    "            img = cv2.imread(img_path, cv2.IMREAD_GRAYSCALE)\n",
    "            # Resize image to ensure it meets the minimum size requirement for HOG\n",
    "            img = cv2.resize(img, (64, 64))\n",
    "            images.append(img)\n",
    "            filenames.append(filename)\n",
    "            if len(images) == batch_size:\n",
    "                yield images, filenames\n",
    "                images = []\n",
    "                filenames = []\n",
    "    if images:  # Yield the remaining images if any\n",
    "        yield images, filenames\n",
    "\n",
    "# Function to extract HOG features from images\n",
    "def extract_hog_features(images):\n",
    "    hog_features = []\n",
    "    for img in images:\n",
    "        features = hog(img, pixels_per_cell=(8, 8), cells_per_block=(2, 2), feature_vector=True)\n",
    "        hog_features.append(features)\n",
    "    return hog_features\n",
    "\n",
    "# Function to perform K-means clustering and save the clustered images\n",
    "def cluster_and_save_images(images_folder, output_folder, num_clusters=100, batch_size=1000):\n",
    "    kmeans = MiniBatchKMeans(n_clusters=num_clusters, random_state=42)\n",
    "    \n",
    "    # Iterate over images in batches\n",
    "    for batch_images, batch_filenames in load_images_from_folder(images_folder, batch_size=batch_size):\n",
    "        features = extract_hog_features(batch_images)\n",
    "        features = np.array(features)\n",
    "\n",
    "        # Perform K-means clustering\n",
    "        kmeans.partial_fit(features)\n",
    "\n",
    "    # Create folders for each cluster\n",
    "    if not os.path.exists(output_folder):\n",
    "        os.makedirs(output_folder)\n",
    "\n",
    "    # Perform clustering and save images\n",
    "    for filename in os.listdir(images_folder):\n",
    "        if filename.endswith('.png') or filename.endswith('.jpg'):\n",
    "            img_path = os.path.join(images_folder, filename)\n",
    "            img = cv2.imread(img_path, cv2.IMREAD_GRAYSCALE)\n",
    "            img = cv2.resize(img, (64, 64))\n",
    "            features = hog(img, pixels_per_cell=(8, 8), cells_per_block=(2, 2), feature_vector=True)\n",
    "            label = kmeans.predict([features])[0]\n",
    "            cluster_folder = os.path.join(output_folder, f'cluster_{label}')\n",
    "            if not os.path.exists(cluster_folder):\n",
    "                os.makedirs(cluster_folder)\n",
    "            shutil.copy(img_path, os.path.join(cluster_folder, filename))\n",
    "\n",
    "    print(\"Clustering completed and images are saved in respective folders.\")\n",
    "\n",
    "# Specify the paths\n",
    "images_folder = \"segmented_data\"  \n",
    "output_folder = \"Clusters\"  \n",
    "\n",
    "# Perform clustering and save images\n",
    "cluster_and_save_images(images_folder, output_folder)"
   ]
  },
  {
   "cell_type": "markdown",
   "metadata": {},
   "source": [
    "Refine Clusters Created"
   ]
  },
  {
   "cell_type": "code",
   "execution_count": 3,
   "metadata": {},
   "outputs": [
    {
     "ename": "ValueError",
     "evalue": "n_samples=1 should be >= n_clusters=2.",
     "output_type": "error",
     "traceback": [
      "\u001b[1;31m---------------------------------------------------------------------------\u001b[0m",
      "\u001b[1;31mValueError\u001b[0m                                Traceback (most recent call last)",
      "Cell \u001b[1;32mIn[3], line 68\u001b[0m\n\u001b[0;32m     65\u001b[0m output_base_folder \u001b[38;5;241m=\u001b[39m \u001b[38;5;124m\"\u001b[39m\u001b[38;5;124mRefined_Clusters\u001b[39m\u001b[38;5;124m\"\u001b[39m  \u001b[38;5;66;03m# Folder to save the refined clusters\u001b[39;00m\n\u001b[0;32m     67\u001b[0m \u001b[38;5;66;03m# Perform refined clustering on each initial cluster\u001b[39;00m\n\u001b[1;32m---> 68\u001b[0m \u001b[43mrefine_clusters\u001b[49m\u001b[43m(\u001b[49m\u001b[43minput_base_folder\u001b[49m\u001b[43m,\u001b[49m\u001b[43m \u001b[49m\u001b[43moutput_base_folder\u001b[49m\u001b[43m)\u001b[49m\n",
      "Cell \u001b[1;32mIn[3], line 46\u001b[0m, in \u001b[0;36mrefine_clusters\u001b[1;34m(input_folder, output_base_folder, num_clusters, batch_size)\u001b[0m\n\u001b[0;32m     43\u001b[0m     features \u001b[38;5;241m=\u001b[39m np\u001b[38;5;241m.\u001b[39marray(features)\n\u001b[0;32m     45\u001b[0m     \u001b[38;5;66;03m# Perform K-means clustering\u001b[39;00m\n\u001b[1;32m---> 46\u001b[0m     \u001b[43mkmeans\u001b[49m\u001b[38;5;241;43m.\u001b[39;49m\u001b[43mpartial_fit\u001b[49m\u001b[43m(\u001b[49m\u001b[43mfeatures\u001b[49m\u001b[43m)\u001b[49m\n\u001b[0;32m     48\u001b[0m \u001b[38;5;66;03m# Cluster and save images\u001b[39;00m\n\u001b[0;32m     49\u001b[0m \u001b[38;5;28;01mfor\u001b[39;00m filename \u001b[38;5;129;01min\u001b[39;00m os\u001b[38;5;241m.\u001b[39mlistdir(cluster_path):\n",
      "File \u001b[1;32m~\\AppData\\Roaming\\Python\\Python312\\site-packages\\sklearn\\base.py:1474\u001b[0m, in \u001b[0;36m_fit_context.<locals>.decorator.<locals>.wrapper\u001b[1;34m(estimator, *args, **kwargs)\u001b[0m\n\u001b[0;32m   1467\u001b[0m     estimator\u001b[38;5;241m.\u001b[39m_validate_params()\n\u001b[0;32m   1469\u001b[0m \u001b[38;5;28;01mwith\u001b[39;00m config_context(\n\u001b[0;32m   1470\u001b[0m     skip_parameter_validation\u001b[38;5;241m=\u001b[39m(\n\u001b[0;32m   1471\u001b[0m         prefer_skip_nested_validation \u001b[38;5;129;01mor\u001b[39;00m global_skip_validation\n\u001b[0;32m   1472\u001b[0m     )\n\u001b[0;32m   1473\u001b[0m ):\n\u001b[1;32m-> 1474\u001b[0m     \u001b[38;5;28;01mreturn\u001b[39;00m \u001b[43mfit_method\u001b[49m\u001b[43m(\u001b[49m\u001b[43mestimator\u001b[49m\u001b[43m,\u001b[49m\u001b[43m \u001b[49m\u001b[38;5;241;43m*\u001b[39;49m\u001b[43margs\u001b[49m\u001b[43m,\u001b[49m\u001b[43m \u001b[49m\u001b[38;5;241;43m*\u001b[39;49m\u001b[38;5;241;43m*\u001b[39;49m\u001b[43mkwargs\u001b[49m\u001b[43m)\u001b[49m\n",
      "File \u001b[1;32m~\\AppData\\Roaming\\Python\\Python312\\site-packages\\sklearn\\cluster\\_kmeans.py:2266\u001b[0m, in \u001b[0;36mMiniBatchKMeans.partial_fit\u001b[1;34m(self, X, y, sample_weight)\u001b[0m\n\u001b[0;32m   2262\u001b[0m x_squared_norms \u001b[38;5;241m=\u001b[39m row_norms(X, squared\u001b[38;5;241m=\u001b[39m\u001b[38;5;28;01mTrue\u001b[39;00m)\n\u001b[0;32m   2264\u001b[0m \u001b[38;5;28;01mif\u001b[39;00m \u001b[38;5;129;01mnot\u001b[39;00m has_centers:\n\u001b[0;32m   2265\u001b[0m     \u001b[38;5;66;03m# this instance has not been fitted yet (fit or partial_fit)\u001b[39;00m\n\u001b[1;32m-> 2266\u001b[0m     \u001b[38;5;28;43mself\u001b[39;49m\u001b[38;5;241;43m.\u001b[39;49m\u001b[43m_check_params_vs_input\u001b[49m\u001b[43m(\u001b[49m\u001b[43mX\u001b[49m\u001b[43m)\u001b[49m\n\u001b[0;32m   2267\u001b[0m     \u001b[38;5;28mself\u001b[39m\u001b[38;5;241m.\u001b[39m_n_threads \u001b[38;5;241m=\u001b[39m _openmp_effective_n_threads()\n\u001b[0;32m   2269\u001b[0m     \u001b[38;5;66;03m# Validate init array\u001b[39;00m\n",
      "File \u001b[1;32m~\\AppData\\Roaming\\Python\\Python312\\site-packages\\sklearn\\cluster\\_kmeans.py:1940\u001b[0m, in \u001b[0;36mMiniBatchKMeans._check_params_vs_input\u001b[1;34m(self, X)\u001b[0m\n\u001b[0;32m   1939\u001b[0m \u001b[38;5;28;01mdef\u001b[39;00m \u001b[38;5;21m_check_params_vs_input\u001b[39m(\u001b[38;5;28mself\u001b[39m, X):\n\u001b[1;32m-> 1940\u001b[0m     \u001b[38;5;28;43msuper\u001b[39;49m\u001b[43m(\u001b[49m\u001b[43m)\u001b[49m\u001b[38;5;241;43m.\u001b[39;49m\u001b[43m_check_params_vs_input\u001b[49m\u001b[43m(\u001b[49m\u001b[43mX\u001b[49m\u001b[43m,\u001b[49m\u001b[43m \u001b[49m\u001b[43mdefault_n_init\u001b[49m\u001b[38;5;241;43m=\u001b[39;49m\u001b[38;5;241;43m3\u001b[39;49m\u001b[43m)\u001b[49m\n\u001b[0;32m   1942\u001b[0m     \u001b[38;5;28mself\u001b[39m\u001b[38;5;241m.\u001b[39m_batch_size \u001b[38;5;241m=\u001b[39m \u001b[38;5;28mmin\u001b[39m(\u001b[38;5;28mself\u001b[39m\u001b[38;5;241m.\u001b[39mbatch_size, X\u001b[38;5;241m.\u001b[39mshape[\u001b[38;5;241m0\u001b[39m])\n\u001b[0;32m   1944\u001b[0m     \u001b[38;5;66;03m# init_size\u001b[39;00m\n",
      "File \u001b[1;32m~\\AppData\\Roaming\\Python\\Python312\\site-packages\\sklearn\\cluster\\_kmeans.py:879\u001b[0m, in \u001b[0;36m_BaseKMeans._check_params_vs_input\u001b[1;34m(self, X, default_n_init)\u001b[0m\n\u001b[0;32m    876\u001b[0m \u001b[38;5;28;01mdef\u001b[39;00m \u001b[38;5;21m_check_params_vs_input\u001b[39m(\u001b[38;5;28mself\u001b[39m, X, default_n_init\u001b[38;5;241m=\u001b[39m\u001b[38;5;28;01mNone\u001b[39;00m):\n\u001b[0;32m    877\u001b[0m     \u001b[38;5;66;03m# n_clusters\u001b[39;00m\n\u001b[0;32m    878\u001b[0m     \u001b[38;5;28;01mif\u001b[39;00m X\u001b[38;5;241m.\u001b[39mshape[\u001b[38;5;241m0\u001b[39m] \u001b[38;5;241m<\u001b[39m \u001b[38;5;28mself\u001b[39m\u001b[38;5;241m.\u001b[39mn_clusters:\n\u001b[1;32m--> 879\u001b[0m         \u001b[38;5;28;01mraise\u001b[39;00m \u001b[38;5;167;01mValueError\u001b[39;00m(\n\u001b[0;32m    880\u001b[0m             \u001b[38;5;124mf\u001b[39m\u001b[38;5;124m\"\u001b[39m\u001b[38;5;124mn_samples=\u001b[39m\u001b[38;5;132;01m{\u001b[39;00mX\u001b[38;5;241m.\u001b[39mshape[\u001b[38;5;241m0\u001b[39m]\u001b[38;5;132;01m}\u001b[39;00m\u001b[38;5;124m should be >= n_clusters=\u001b[39m\u001b[38;5;132;01m{\u001b[39;00m\u001b[38;5;28mself\u001b[39m\u001b[38;5;241m.\u001b[39mn_clusters\u001b[38;5;132;01m}\u001b[39;00m\u001b[38;5;124m.\u001b[39m\u001b[38;5;124m\"\u001b[39m\n\u001b[0;32m    881\u001b[0m         )\n\u001b[0;32m    883\u001b[0m     \u001b[38;5;66;03m# tol\u001b[39;00m\n\u001b[0;32m    884\u001b[0m     \u001b[38;5;28mself\u001b[39m\u001b[38;5;241m.\u001b[39m_tol \u001b[38;5;241m=\u001b[39m _tolerance(X, \u001b[38;5;28mself\u001b[39m\u001b[38;5;241m.\u001b[39mtol)\n",
      "\u001b[1;31mValueError\u001b[0m: n_samples=1 should be >= n_clusters=2."
     ]
    }
   ],
   "source": [
    "# Function to load images and preprocess them\n",
    "def load_images_from_folder(folder, batch_size=1000):\n",
    "    images = []\n",
    "    filenames = []\n",
    "    for filename in os.listdir(folder):\n",
    "        if filename.endswith('.png') or filename.endswith('.jpg'):\n",
    "            img_path = os.path.join(folder, filename)\n",
    "            img = cv2.imread(img_path, cv2.IMREAD_GRAYSCALE)\n",
    "            # Resize image to ensure it meets the minimum size requirement for HOG\n",
    "            img = cv2.resize(img, (64, 64))\n",
    "            images.append(img)\n",
    "            filenames.append(filename)\n",
    "            if len(images) == batch_size:\n",
    "                yield images, filenames\n",
    "                images = []\n",
    "                filenames = []\n",
    "    if images:  # Yield the remaining images if any\n",
    "        yield images, filenames\n",
    "\n",
    "# Function to extract HOG features from images\n",
    "def extract_hog_features(images):\n",
    "    hog_features = []\n",
    "    for img in images:\n",
    "        features = hog(img, pixels_per_cell=(8, 8), cells_per_block=(2, 2), feature_vector=True)\n",
    "        hog_features.append(features)\n",
    "    return hog_features\n",
    "\n",
    "# Function to perform K-means clustering on images in a folder\n",
    "def refine_clusters(input_folder, output_base_folder, num_clusters=2, batch_size=1000):\n",
    "    for cluster_folder in os.listdir(input_folder):\n",
    "        cluster_path = os.path.join(input_folder, cluster_folder)\n",
    "        if os.path.isdir(cluster_path):\n",
    "            # Create a subfolder in the output folder\n",
    "            refined_output_folder = os.path.join(output_base_folder, cluster_folder)\n",
    "            if not os.path.exists(refined_output_folder):\n",
    "                os.makedirs(refined_output_folder)\n",
    "                \n",
    "            kmeans = MiniBatchKMeans(n_clusters=num_clusters, random_state=42)\n",
    "            \n",
    "            # Iterate over images in batches\n",
    "            for batch_images, batch_filenames in load_images_from_folder(cluster_path, batch_size=batch_size):\n",
    "                features = extract_hog_features(batch_images)\n",
    "                features = np.array(features)\n",
    "                \n",
    "                # Perform K-means clustering\n",
    "                kmeans.partial_fit(features)\n",
    "\n",
    "            # Cluster and save images\n",
    "            for filename in os.listdir(cluster_path):\n",
    "                if filename.endswith('.png') or filename.endswith('.jpg'):\n",
    "                    img_path = os.path.join(cluster_path, filename)\n",
    "                    img = cv2.imread(img_path, cv2.IMREAD_GRAYSCALE)\n",
    "                    img = cv2.resize(img, (64, 64))\n",
    "                    features = hog(img, pixels_per_cell=(8, 8), cells_per_block=(2, 2), feature_vector=True)\n",
    "                    label = kmeans.predict([features])[0]\n",
    "                    final_cluster_folder = os.path.join(refined_output_folder, f'cluster_{label}')\n",
    "                    if not os.path.exists(final_cluster_folder):\n",
    "                        os.makedirs(final_cluster_folder)\n",
    "                    shutil.copy(img_path, os.path.join(final_cluster_folder, filename))\n",
    "\n",
    "    print(\"Refined clustering completed and images are saved in respective folders.\")\n",
    "\n",
    "# Specify the paths\n",
    "input_base_folder = \"Clusters\"  # Folder containing the initial clusters\n",
    "output_base_folder = \"Refined_Clusters\"  # Folder to save the refined clusters\n",
    "\n",
    "# Perform refined clustering on each initial cluster\n",
    "refine_clusters(input_base_folder, output_base_folder)"
   ]
  }
 ],
 "metadata": {
  "kernelspec": {
   "display_name": "Python 3",
   "language": "python",
   "name": "python3"
  },
  "language_info": {
   "codemirror_mode": {
    "name": "ipython",
    "version": 3
   },
   "file_extension": ".py",
   "mimetype": "text/x-python",
   "name": "python",
   "nbconvert_exporter": "python",
   "pygments_lexer": "ipython3",
   "version": "3.12.3"
  }
 },
 "nbformat": 4,
 "nbformat_minor": 2
}
