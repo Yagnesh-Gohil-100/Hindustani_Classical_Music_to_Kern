{
 "cells": [
  {
   "cell_type": "markdown",
   "metadata": {},
   "source": [
    "Intial Clustering"
   ]
  },
  {
   "cell_type": "code",
   "execution_count": 2,
   "metadata": {},
   "outputs": [],
   "source": [
    "import os\n",
    "import cv2\n",
    "import numpy as np\n",
    "from skimage.feature import hog\n",
    "from sklearn.cluster import MiniBatchKMeans\n",
    "import shutil"
   ]
  },
  {
   "cell_type": "code",
   "execution_count": 2,
   "metadata": {},
   "outputs": [
    {
     "name": "stdout",
     "output_type": "stream",
     "text": [
      "Clustering completed and images are saved in respective folders.\n"
     ]
    }
   ],
   "source": [
    "# Function to load images and preprocess them in batches\n",
    "def load_images_from_folder(folder, batch_size=1000):\n",
    "    images = []\n",
    "    filenames = []\n",
    "    for filename in os.listdir(folder):\n",
    "        if filename.endswith('.png') or filename.endswith('.jpg'):\n",
    "            img_path = os.path.join(folder, filename)\n",
    "            img = cv2.imread(img_path, cv2.IMREAD_GRAYSCALE)\n",
    "            # Resize image to ensure it meets the minimum size requirement for HOG\n",
    "            img = cv2.resize(img, (64, 64))\n",
    "            images.append(img)\n",
    "            filenames.append(filename)\n",
    "            if len(images) == batch_size:\n",
    "                yield images, filenames\n",
    "                images = []\n",
    "                filenames = []\n",
    "    if images:  # Yield the remaining images if any\n",
    "        yield images, filenames\n",
    "\n",
    "# Function to extract HOG features from images\n",
    "def extract_hog_features(images):\n",
    "    hog_features = []\n",
    "    for img in images:\n",
    "        features = hog(img, pixels_per_cell=(8, 8), cells_per_block=(2, 2), feature_vector=True)\n",
    "        hog_features.append(features)\n",
    "    return hog_features\n",
    "\n",
    "# Function to perform K-means clustering and save the clustered images\n",
    "def cluster_and_save_images(images_folder, output_folder, num_clusters=100, batch_size=1000):\n",
    "    kmeans = MiniBatchKMeans(n_clusters=num_clusters, random_state=42)\n",
    "    \n",
    "    # Iterate over images in batches\n",
    "    for batch_images, batch_filenames in load_images_from_folder(images_folder, batch_size=batch_size):\n",
    "        features = extract_hog_features(batch_images)\n",
    "        features = np.array(features)\n",
    "\n",
    "        # Perform K-means clustering\n",
    "        kmeans.partial_fit(features)\n",
    "\n",
    "    # Create folders for each cluster\n",
    "    if not os.path.exists(output_folder):\n",
    "        os.makedirs(output_folder)\n",
    "\n",
    "    # Perform clustering and save images\n",
    "    for filename in os.listdir(images_folder):\n",
    "        if filename.endswith('.png') or filename.endswith('.jpg'):\n",
    "            img_path = os.path.join(images_folder, filename)\n",
    "            img = cv2.imread(img_path, cv2.IMREAD_GRAYSCALE)\n",
    "            img = cv2.resize(img, (64, 64))\n",
    "            features = hog(img, pixels_per_cell=(8, 8), cells_per_block=(2, 2), feature_vector=True)\n",
    "            label = kmeans.predict([features])[0]\n",
    "            cluster_folder = os.path.join(output_folder, f'cluster_{label}')\n",
    "            if not os.path.exists(cluster_folder):\n",
    "                os.makedirs(cluster_folder)\n",
    "            shutil.copy(img_path, os.path.join(cluster_folder, filename))\n",
    "\n",
    "    print(\"Clustering completed and images are saved in respective folders.\")\n",
    "\n",
    "# Specify the paths\n",
    "images_folder = \"segmented_data\"  \n",
    "output_folder = \"Clusters\"  \n",
    "\n",
    "# Perform clustering and save images\n",
    "cluster_and_save_images(images_folder, output_folder)"
   ]
  },
  {
   "cell_type": "markdown",
   "metadata": {},
   "source": [
    "Refine Clusters Created"
   ]
  },
  {
   "cell_type": "code",
   "execution_count": 4,
   "metadata": {},
   "outputs": [
    {
     "name": "stdout",
     "output_type": "stream",
     "text": [
      "Skipping cluster_0 as it contains fewer images (1) than the number of clusters (2)\n",
      "Refined clustering completed and images are saved in respective folders.\n"
     ]
    }
   ],
   "source": [
    "# Function to load images and preprocess them\n",
    "def load_images_from_folder(folder, batch_size=1000):\n",
    "    images = []\n",
    "    filenames = []\n",
    "    for filename in os.listdir(folder):\n",
    "        if filename.endswith('.png') or filename.endswith('.jpg'):\n",
    "            img_path = os.path.join(folder, filename)\n",
    "            img = cv2.imread(img_path, cv2.IMREAD_GRAYSCALE)\n",
    "            # Resize image to ensure it meets the minimum size requirement for HOG\n",
    "            img = cv2.resize(img, (64, 64))\n",
    "            images.append(img)\n",
    "            filenames.append(filename)\n",
    "            if len(images) == batch_size:\n",
    "                yield images, filenames\n",
    "                images = []\n",
    "                filenames = []\n",
    "    if images:  # Yield the remaining images if any\n",
    "        yield images, filenames\n",
    "\n",
    "# Function to extract HOG features from images\n",
    "def extract_hog_features(images):\n",
    "    hog_features = []\n",
    "    for img in images:\n",
    "        features = hog(img, pixels_per_cell=(8, 8), cells_per_block=(2, 2), feature_vector=True)\n",
    "        hog_features.append(features)\n",
    "    return hog_features\n",
    "\n",
    "# Function to perform K-means clustering on images in a folder\n",
    "def refine_clusters(input_folder, output_base_folder, num_clusters=2, batch_size=1000):\n",
    "    for cluster_folder in os.listdir(input_folder):\n",
    "        cluster_path = os.path.join(input_folder, cluster_folder)\n",
    "        if os.path.isdir(cluster_path):\n",
    "            # Count the number of images in the cluster\n",
    "            num_images = len([name for name in os.listdir(cluster_path) if name.endswith('.png') or name.endswith('.jpg')])\n",
    "            \n",
    "            # Skip clusters with fewer images than the number of clusters\n",
    "            if num_images < num_clusters:\n",
    "                print(f\"Skipping {cluster_folder} as it contains fewer images ({num_images}) than the number of clusters ({num_clusters})\")\n",
    "                continue\n",
    "            \n",
    "            # Create a subfolder in the output folder\n",
    "            refined_output_folder = os.path.join(output_base_folder, cluster_folder)\n",
    "            if not os.path.exists(refined_output_folder):\n",
    "                os.makedirs(refined_output_folder)\n",
    "                \n",
    "            kmeans = MiniBatchKMeans(n_clusters=num_clusters, random_state=42)\n",
    "            \n",
    "            # Iterate over images in batches\n",
    "            for batch_images, batch_filenames in load_images_from_folder(cluster_path, batch_size=batch_size):\n",
    "                features = extract_hog_features(batch_images)\n",
    "                features = np.array(features)\n",
    "                \n",
    "                # Perform K-means clustering\n",
    "                kmeans.partial_fit(features)\n",
    "\n",
    "            # Cluster and save images\n",
    "            for filename in os.listdir(cluster_path):\n",
    "                if filename.endswith('.png') or filename.endswith('.jpg'):\n",
    "                    img_path = os.path.join(cluster_path, filename)\n",
    "                    img = cv2.imread(img_path, cv2.IMREAD_GRAYSCALE)\n",
    "                    img = cv2.resize(img, (64, 64))\n",
    "                    features = hog(img, pixels_per_cell=(8, 8), cells_per_block=(2, 2), feature_vector=True)\n",
    "                    label = kmeans.predict([features])[0]\n",
    "                    final_cluster_folder = os.path.join(refined_output_folder, f'cluster_{label}')\n",
    "                    if not os.path.exists(final_cluster_folder):\n",
    "                        os.makedirs(final_cluster_folder)\n",
    "                    shutil.copy(img_path, os.path.join(final_cluster_folder, filename))\n",
    "\n",
    "    print(\"Refined clustering completed and images are saved in respective folders.\")\n",
    "\n",
    "# Specify the paths\n",
    "input_base_folder = \"Clusters\"  # Folder containing the initial clusters\n",
    "output_base_folder = \"Refined_Clusters\"  # Folder to save the refined clusters\n",
    "\n",
    "# Perform refined clustering on each initial cluster\n",
    "refine_clusters(input_base_folder, output_base_folder)"
   ]
  }
 ],
 "metadata": {
  "kernelspec": {
   "display_name": "Python 3",
   "language": "python",
   "name": "python3"
  },
  "language_info": {
   "codemirror_mode": {
    "name": "ipython",
    "version": 3
   },
   "file_extension": ".py",
   "mimetype": "text/x-python",
   "name": "python",
   "nbconvert_exporter": "python",
   "pygments_lexer": "ipython3",
   "version": "3.12.3"
  }
 },
 "nbformat": 4,
 "nbformat_minor": 2
}
